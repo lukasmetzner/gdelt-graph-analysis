{
 "cells": [
  {
   "cell_type": "code",
   "execution_count": 2,
   "source": [
    "import pandas as pd\n",
    "import os\n",
    "\n",
    "paths = []\n",
    "for root, _, files in os.walk(\"./data\"):\n",
    "    for file in files:\n",
    "        path = os.path.join(root, file)\n",
    "        paths.append(path)"
   ],
   "outputs": [],
   "metadata": {}
  },
  {
   "cell_type": "code",
   "execution_count": 3,
   "source": [
    "header_row = [\n",
    "    \"GLOBALEVENTID\",\n",
    "    \"SQLDATE\",\n",
    "    \"MonthYear\",\n",
    "    \"Year\",\n",
    "    \"FractionDate\",\n",
    "    \"Actor1Code\",\n",
    "    \"Actor1Name\",\n",
    "    \"Actor1CountryCode\",\n",
    "    \"Actor1KnownGroupCode\",\n",
    "    \"Actor1EthnicCode\",\n",
    "    \"Actor1Religion1Code\",\n",
    "    \"Actor1Religion2Code\",\n",
    "    \"Actor1Type1Code\",\n",
    "    \"Actor1Type2Code\",\n",
    "    \"Actor1Type3Code\",\n",
    "    \"Actor2Code\",\n",
    "    \"Actor2Name\",\n",
    "    \"Actor2CountryCode\",\n",
    "    \"Actor2KnownGroupCode\",\n",
    "    \"Actor2EthnicCode\",\n",
    "    \"Actor2Religion1Code\",\n",
    "    \"Actor2Religion2Code\",\n",
    "    \"Actor2Type1Code\",\n",
    "    \"Actor2Type2Code\",\n",
    "    \"Actor2Type3Code\",\n",
    "    \"IsRootEvent\",\n",
    "    \"EventCode\",\n",
    "    \"EventBaseCode\",\n",
    "    \"EventRootCode\",\n",
    "    \"QuadClass\",\n",
    "    \"GoldsteinScale\",\n",
    "    \"NumMentions\",\n",
    "    \"NumSources\",\n",
    "    \"NumArticles\",\n",
    "    \"AvgTone\",\n",
    "    \"Actor1Geo_Type\",\n",
    "    \"Actor1Geo_FullName\",\n",
    "    \"Actor1Geo_CountryCode\",\n",
    "    \"Actor1Geo_ADM1Code\",\n",
    "    \"Actor1Geo_Lat\",\n",
    "    \"Actor1Geo_Long\",\n",
    "    \"Actor1Geo_FeatureID\",\n",
    "    \"Actor2Geo_Type\",\n",
    "    \"Actor2Geo_FullName\",\n",
    "    \"Actor2Geo_CountryCode\",\n",
    "    \"Actor2Geo_ADM1Code\",\n",
    "    \"Actor2Geo_Lat\",\n",
    "    \"Actor2Geo_Long\",\n",
    "    \"Actor2Geo_FeatureID\",\n",
    "    \"ActionGeo_Type\",\n",
    "    \"ActionGeo_FullName\",\n",
    "    \"ActionGeo_CountryCode\",\n",
    "    \"ActionGeo_ADM1Code\",\n",
    "    \"ActionGeo_Lat\",\n",
    "    \"ActionGeo_Long\",\n",
    "    \"ActionGeo_FeatureID\",\n",
    "    \"DATEADDED\",\n",
    "    \"SOURCEURL\"\n",
    "]\n"
   ],
   "outputs": [],
   "metadata": {}
  },
  {
   "cell_type": "code",
   "execution_count": 4,
   "source": [
    "from tqdm.auto import tqdm\n",
    "\n",
    "df = pd.read_csv(paths[0], sep=\"\\t\", names=header_row, header=None)\n",
    "df: pd.DataFrame\n",
    "for path in tqdm(paths[1:10]):\n",
    "    df = df.append(pd.read_csv(path, sep=\"\\t\", header=None, names=header_row), ignore_index=True)"
   ],
   "outputs": [
    {
     "output_type": "stream",
     "name": "stderr",
     "text": [
      " 33%|███▎      | 3/9 [00:01<00:03,  1.90it/s]/Users/lukasmetzner/Projects/gdelt_graph_analysis/.venv/lib/python3.9/site-packages/IPython/core/interactiveshell.py:3444: DtypeWarning: Columns (14) have mixed types.Specify dtype option on import or set low_memory=False.\n",
      "  exec(code_obj, self.user_global_ns, self.user_ns)\n",
      " 44%|████▍     | 4/9 [00:02<00:02,  1.92it/s]/Users/lukasmetzner/Projects/gdelt_graph_analysis/.venv/lib/python3.9/site-packages/IPython/core/interactiveshell.py:3444: DtypeWarning: Columns (14,24) have mixed types.Specify dtype option on import or set low_memory=False.\n",
      "  exec(code_obj, self.user_global_ns, self.user_ns)\n",
      " 89%|████████▉ | 8/9 [00:04<00:00,  1.64it/s]/Users/lukasmetzner/Projects/gdelt_graph_analysis/.venv/lib/python3.9/site-packages/IPython/core/interactiveshell.py:3444: DtypeWarning: Columns (24) have mixed types.Specify dtype option on import or set low_memory=False.\n",
      "  exec(code_obj, self.user_global_ns, self.user_ns)\n",
      "100%|██████████| 9/9 [00:05<00:00,  1.56it/s]\n"
     ]
    }
   ],
   "metadata": {}
  },
  {
   "cell_type": "code",
   "execution_count": 5,
   "source": [
    "print(len(df))\n",
    "df_dropped = df.dropna(subset=[\"Actor1Name\", \"EventRootCode\", \"Actor2Name\"])\n",
    "len(df_dropped)"
   ],
   "outputs": [
    {
     "output_type": "stream",
     "name": "stdout",
     "text": [
      "909954\n"
     ]
    },
    {
     "output_type": "execute_result",
     "data": {
      "text/plain": [
       "558910"
      ]
     },
     "metadata": {},
     "execution_count": 5
    }
   ],
   "metadata": {}
  },
  {
   "cell_type": "code",
   "execution_count": 6,
   "source": [
    "from pyvis import network as net\n",
    "import numpy as np\n",
    "import random\n",
    "import json\n",
    "\n",
    "from IPython.core.display import display, HTML\n",
    "g=net.Network(height='1440px', width='2560px',heading='', directed=True)\n",
    "g.force_atlas_2based(\n",
    "    gravity=-100,\n",
    "    central_gravity=0.02,\n",
    "    spring_strength=0.02\n",
    ")\n",
    "n = 500\n",
    "\n",
    "# Generate unique colors for events\n",
    "color_dict = {}\n",
    "with open(\"color_coding.json\", \"r\") as file_io:\n",
    "    color_dict = json.load(file_io)\n",
    "\n",
    "# Generate list of unique actor names\n",
    "uniques = set()\n",
    "for index, row in df_dropped[:n].iterrows():\n",
    "    uniques.add(row[\"Actor1Name\"])\n",
    "    uniques.add(row[\"Actor2Name\"])\n",
    "\n",
    "# Generate dictionary with id for each actor name\n",
    "uniques_id = {}\n",
    "for index, unique in enumerate(uniques):\n",
    "    uniques_id[unique] = index\n",
    "\n",
    "# Add all actors as nodes with a random color\n",
    "for label, id in tqdm(uniques_id.items()):\n",
    "    random.seed(id)\n",
    "    g.add_node(\n",
    "        id, \n",
    "        label=label,\n",
    "        #color= \"#\" + ''.join([random.choice('0123456789ABCDEF') for i in range(6)])\n",
    "    )\n",
    "\n",
    "# Add all edges\n",
    "# Edge: Actor1Name -> Actor2Name; \n",
    "# Color: unique event color\n",
    "for index, row in tqdm(df_dropped[:n].iterrows()):\n",
    "    url = row[\"SOURCEURL\"]\n",
    "    actor_one = int(uniques_id[row[\"Actor1Name\"]])\n",
    "    actor_two = int(uniques_id[row[\"Actor2Name\"]])\n",
    "    event = int(row[\"EventRootCode\"])\n",
    "    g.add_edge(\n",
    "        actor_one, \n",
    "        actor_two, \n",
    "        title=url, \n",
    "        physics=True, \n",
    "        arrowStrikethrough=True,\n",
    "        color=color_dict[str(event - 1)],\n",
    "        width=2,\n",
    "        weight=event\n",
    "    )\n",
    "\n",
    "g.show('./assets/graph.html')\n",
    "#display(HTML(filename=\"example.html\"))"
   ],
   "outputs": [
    {
     "output_type": "stream",
     "name": "stderr",
     "text": [
      "100%|██████████| 211/211 [00:00<00:00, 97092.50it/s]\n",
      "500it [00:00, 30365.34it/s]\n"
     ]
    }
   ],
   "metadata": {}
  },
  {
   "cell_type": "code",
   "execution_count": null,
   "source": [],
   "outputs": [],
   "metadata": {}
  }
 ],
 "metadata": {
  "orig_nbformat": 4,
  "language_info": {
   "name": "python",
   "version": "3.9.7",
   "mimetype": "text/x-python",
   "codemirror_mode": {
    "name": "ipython",
    "version": 3
   },
   "pygments_lexer": "ipython3",
   "nbconvert_exporter": "python",
   "file_extension": ".py"
  },
  "kernelspec": {
   "name": "python3",
   "display_name": "Python 3.9.7 64-bit ('.venv': venv)"
  },
  "interpreter": {
   "hash": "da5bf4baa1caac9a74b089cf6e1b91f9bf9dead54afc559e34e8fed1e07abaf5"
  }
 },
 "nbformat": 4,
 "nbformat_minor": 2
}